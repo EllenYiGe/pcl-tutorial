{
 "cells": [
  {
   "cell_type": "markdown",
   "metadata": {},
   "source": [
    "# kdtree-Search \n",
    "\n",
    "본 노트북에서는 배경제거를 위한 기반 지식 이해를 목적으로 kdtree를 이용한 근접 포인트 탐색 및 selection에 대하여 다루고 있습니다. "
   ]
  },
  {
   "cell_type": "code",
   "execution_count": 1,
   "metadata": {},
   "outputs": [],
   "source": [
    "# -*- coding: utf-8 -*-\n",
    "\n",
    "import numpy as np\n",
    "import pcl\n",
    "import random"
   ]
  },
  {
   "cell_type": "markdown",
   "metadata": {},
   "source": [
    "## 배경 클라우드 생성"
   ]
  },
  {
   "cell_type": "code",
   "execution_count": 2,
   "metadata": {},
   "outputs": [
    {
     "name": "stdout",
     "output_type": "stream",
     "text": [
      "<type 'pcl._pcl.PointCloud'>\n",
      "<PointCloud of 1000 points>\n"
     ]
    }
   ],
   "source": [
    "cloud = pcl.PointCloud()\n",
    "\n",
    "points = np.zeros((1000, 3), dtype=np.float32)\n",
    "RAND_MAX = 1024\n",
    "for i in range(0, 1000):\n",
    "    points[i][0] = 1024 * random.random () / (RAND_MAX + 1.0)\n",
    "    points[i][1] = 1024 * random.random () / (RAND_MAX + 1.0)\n",
    "    points[i][2] = 1024 * random.random () / (RAND_MAX + 1.0)\n",
    "\n",
    "cloud.from_array(points)\n",
    "print(type(cloud))\n",
    "print(cloud)"
   ]
  },
  {
   "cell_type": "code",
   "execution_count": 3,
   "metadata": {},
   "outputs": [],
   "source": [
    "kdtree = cloud.make_kdtree_flann()"
   ]
  },
  {
   "cell_type": "markdown",
   "metadata": {},
   "source": [
    "## 타겟 클라우드 one pointcloud 생성"
   ]
  },
  {
   "cell_type": "code",
   "execution_count": 4,
   "metadata": {},
   "outputs": [
    {
     "name": "stdout",
     "output_type": "stream",
     "text": [
      "<type 'pcl._pcl.PointCloud'>\n",
      "<PointCloud of 1 points>\n",
      "(0.3897349238395691, 0.6574028134346008, 0.5328550934791565)\n"
     ]
    }
   ],
   "source": [
    "searchPoint = pcl.PointCloud()\n",
    "searchPoints = np.zeros((1, 3), dtype=np.float32)\n",
    "searchPoints[0][0] = 1024 * random.random () / (RAND_MAX + 1.0)\n",
    "searchPoints[0][1] = 1024 * random.random () / (RAND_MAX + 1.0)\n",
    "searchPoints[0][2] = 1024 * random.random () / (RAND_MAX + 1.0)\n",
    "searchPoint.from_array(searchPoints)\n",
    "\n",
    "print(type(searchPoint))\n",
    "print(searchPoint)\n",
    "print(searchPoint[0])"
   ]
  },
  {
   "cell_type": "code",
   "execution_count": 5,
   "metadata": {},
   "outputs": [
    {
     "name": "stdout",
     "output_type": "stream",
     "text": [
      "K nearest neighbor search at (0.38973492384 0.657402813435 0.532855093479) with K=10\n",
      "(0.36908391118 0.626925766468 0.518300414085 (squared distance: 0.0015671535)\n",
      "(0.358919233084 0.682486176491 0.478914320469 (squared distance: 0.004488389)\n",
      "(0.332451015711 0.706364452839 0.507831573486 (squared distance: 0.006304865)\n",
      "(0.351922869682 0.721403896809 0.597890794277 (squared distance: 0.009755533)\n",
      "(0.444129824638 0.677974045277 0.450941592455 (squared distance: 0.010091802)\n",
      "(0.341640949249 0.774452507496 0.493182241917 (squared distance: 0.017587597)\n",
      "(0.404205054045 0.730687260628 0.413271188736 (squared distance: 0.019880306)\n",
      "(0.370587289333 0.549442052841 0.630744934082 (squared distance: 0.021604579)\n",
      "(0.379377871752 0.802151083946 0.499145627022 (squared distance: 0.02219566)\n",
      "(0.4918820858 0.565562427044 0.596739947796 (squared distance: 0.022949975)\n"
     ]
    }
   ],
   "source": [
    "K = 10\n",
    "\n",
    "print ('K nearest neighbor search at (' + str(searchPoint[0][0]) + ' ' + str(searchPoint[0][1]) + ' ' + str(searchPoint[0][2]) + ') with K=' + str(K))\n",
    "\n",
    "\n",
    "[ind, sqdist] = kdtree.nearest_k_search_for_cloud(searchPoint, K)\n",
    "\n",
    "for i in range(0, ind.size):\n",
    "    print ('(' + str(cloud[ind[0][i]][0]) + ' ' + str(cloud[ind[0][i]][1]) + ' ' + str(cloud[ind[0][i]][2]) + ' (squared distance: ' + str(sqdist[0][i]) + ')')\n",
    "\n"
   ]
  },
  {
   "cell_type": "code",
   "execution_count": 6,
   "metadata": {},
   "outputs": [
    {
     "name": "stdout",
     "output_type": "stream",
     "text": [
      "Neighbors within radius search at (0.38973492384 0.657402813435 0.532855093479) with radius=0.884394124801\n"
     ]
    }
   ],
   "source": [
    "RADIUS = 1000.0 #256.0\n",
    "radius = RADIUS * random.random () / (RAND_MAX + 1.0)\n",
    "print ('Neighbors within radius search at (' + str(searchPoint[0][0]) + ' ' + str(searchPoint[0][1]) + ' ' + str(searchPoint[0][2]) + ') with radius=' + str(radius))\n"
   ]
  },
  {
   "cell_type": "code",
   "execution_count": 7,
   "metadata": {},
   "outputs": [],
   "source": [
    "# NotImplement radiusSearch\n",
    "[ind, sqdist] = kdtree.radius_search_for_cloud (searchPoint, radius)\n",
    "for i in range(0, ind.size):\n",
    "    print ('(' + str(cloud[ind[0][i]][0]) + ' ' + str(cloud[ind[0][i]][1]) + ' ' + str(cloud[ind[0][i]][2]) + ' (squared distance: ' + str(sqdist[0][i]) + ')')\n"
   ]
  },
  {
   "cell_type": "code",
   "execution_count": null,
   "metadata": {},
   "outputs": [],
   "source": []
  }
 ],
 "metadata": {
  "kernelspec": {
   "display_name": "Python 2",
   "language": "python",
   "name": "python2"
  },
  "language_info": {
   "codemirror_mode": {
    "name": "ipython",
    "version": 2
   },
   "file_extension": ".py",
   "mimetype": "text/x-python",
   "name": "python",
   "nbconvert_exporter": "python",
   "pygments_lexer": "ipython2",
   "version": "2.7.12"
  },
  "toc": {
   "base_numbering": 1,
   "nav_menu": {},
   "number_sections": true,
   "sideBar": true,
   "skip_h1_title": false,
   "title_cell": "Table of Contents",
   "title_sidebar": "Contents",
   "toc_cell": false,
   "toc_position": {},
   "toc_section_display": true,
   "toc_window_display": false
  },
  "varInspector": {
   "cols": {
    "lenName": 16,
    "lenType": 16,
    "lenVar": 40
   },
   "kernels_config": {
    "python": {
     "delete_cmd_postfix": "",
     "delete_cmd_prefix": "del ",
     "library": "var_list.py",
     "varRefreshCmd": "print(var_dic_list())"
    },
    "r": {
     "delete_cmd_postfix": ") ",
     "delete_cmd_prefix": "rm(",
     "library": "var_list.r",
     "varRefreshCmd": "cat(var_dic_list()) "
    }
   },
   "types_to_exclude": [
    "module",
    "function",
    "builtin_function_or_method",
    "instance",
    "_Feature"
   ],
   "window_display": false
  }
 },
 "nbformat": 4,
 "nbformat_minor": 2
}
