{
 "cells": [
  {
   "cell_type": "markdown",
   "metadata": {},
   "source": [
    "# PointGAN 데이터 생성기 \n",
    "\n",
    "[PointGAN](https://github.com/fxia22/pointGAN)에 자신의 데이터를 적용하기 위한 데이터셋 생성 파일입니다. \n",
    "\n",
    "- 입력 : pcd (`/workspace/_train_data/extraction_tool/pcd/*.pcd`)\n",
    "- 출력 \n",
    "    - *.pts : pcd의 헤더 부분을 제거한 x,y,z값 (`./points`)\n",
    "    - *.png : 생성된 pts의 이미지 변환 파일, 사용안함 (`points_label`)\n",
    "    - *.seg : 라벨데이터(??)\n",
    " \n",
    "> seg파일에는 각 포인트들에 세그멘테이션을 위한 라벨값이 들어 있는듯 합니다. 저는 분류만 필요 하여 1으로 통일 하였습니다.  `np.ones(txt.shape[0]`\n",
    "\n",
    "파일 수정 필요 :  'synsetoffset2category.txt'파일의 마지막에 자신의 데이터셋 저장 폴더명(eg. 77777)과 이름('human') 지정 \n",
    "\n",
    "```\n",
    "Skateboard\t04225987\n",
    "Table\t04379243\n",
    "human\t777777  <-추가된 내용\n",
    "```\n",
    "\n",
    "![](./pointGAN.gif)"
   ]
  },
  {
   "cell_type": "code",
   "execution_count": 3,
   "metadata": {},
   "outputs": [],
   "source": [
    "import glob\n",
    "import numpy as np\n",
    "from open3d import *\n",
    "from tqdm import tqdm"
   ]
  },
  {
   "cell_type": "code",
   "execution_count": 10,
   "metadata": {},
   "outputs": [],
   "source": [
    "import sys\n",
    "sys.path.append('/workspace/include/')\n",
    "from visualization_helper import *\n",
    "# Create a figure with a subplot with three axes\n",
    "\n",
    "def visualization3D_xyz_img(new_cloud_data, filename):\n",
    "    fig = plt.figure()\n",
    "    ax = fig.add_subplot(111, projection='3d')\n",
    "    \n",
    "    cen_x = (new_cloud_data[:,0:1].max()+new_cloud_data[:,0:1].min())/2\n",
    "    cen_y = (new_cloud_data[:,1:2].max() + new_cloud_data[:,1:2].min())/2\n",
    "    cen_z = (new_cloud_data[:,2:3].max() + new_cloud_data[:,2:3].min())/2    \n",
    "    ax.set_xlim3d(cen_x-1, cen_x+1)\n",
    "    ax.set_ylim3d(cen_y-1, cen_y+1)\n",
    "    ax.set_zlim3d(cen_z-1, cen_z+1)\n",
    "\n",
    "    # split the rgb column into three columns: red, green and blue\n",
    "    rgb_columns = np.asarray(random_color_gen())\n",
    "    \n",
    "    # normalize the rgb values (they should be between [0, 1])\n",
    "    rgb_columns = (rgb_columns / 255.0).astype(np.float)\n",
    "    ax.scatter(new_cloud_data[:,0], new_cloud_data[:,1], new_cloud_data[:,2], color=rgb_columns);\n",
    "    fig.savefig(filename)"
   ]
  },
  {
   "cell_type": "code",
   "execution_count": 11,
   "metadata": {},
   "outputs": [
    {
     "name": "stdout",
     "output_type": "stream",
     "text": [
      "/workspace/_train_data/extraction_tool/pcd/Mobiltech_245.pcd\n"
     ]
    }
   ],
   "source": [
    "list = glob.glob('/workspace/_train_data/extraction_tool/pcd/*.pcd') #pcd 입력\n",
    "print(list[0])"
   ]
  },
  {
   "cell_type": "code",
   "execution_count": 13,
   "metadata": {},
   "outputs": [
    {
     "name": "stderr",
     "output_type": "stream",
     "text": [
      "\n",
      "  0%|          | 0/2092 [00:00<?, ?it/s]\u001b[A\n",
      "  2%|▏         | 47/2092 [00:00<00:04, 465.27it/s]\u001b[A\n",
      "  5%|▍         | 99/2092 [00:00<00:04, 477.01it/s]\u001b[A\n",
      "  7%|▋         | 156/2092 [00:00<00:03, 499.61it/s]\u001b[A\n",
      " 11%|█         | 224/2092 [00:00<00:03, 541.25it/s]\u001b[A\n",
      " 14%|█▎        | 286/2092 [00:00<00:03, 560.99it/s]\u001b[A\n",
      " 17%|█▋        | 349/2092 [00:00<00:03, 579.89it/s]\u001b[A\n",
      " 20%|█▉        | 416/2092 [00:00<00:02, 601.81it/s]\u001b[A\n",
      " 23%|██▎       | 474/2092 [00:00<00:02, 592.64it/s]\u001b[A\n",
      " 25%|██▌       | 533/2092 [00:00<00:02, 591.09it/s]\u001b[A\n",
      " 29%|██▉       | 604/2092 [00:01<00:02, 619.42it/s]\u001b[A\n",
      " 32%|███▏      | 666/2092 [00:01<00:02, 591.03it/s]\u001b[A\n",
      " 35%|███▍      | 730/2092 [00:01<00:02, 602.25it/s]\u001b[A\n",
      " 38%|███▊      | 791/2092 [00:01<00:02, 584.30it/s]\u001b[A\n",
      " 41%|████      | 850/2092 [00:01<00:02, 585.42it/s]\u001b[A\n",
      " 43%|████▎     | 910/2092 [00:01<00:02, 588.71it/s]\u001b[A\n",
      " 46%|████▋     | 970/2092 [00:01<00:01, 590.61it/s]\u001b[A\n",
      " 50%|████▉     | 1036/2092 [00:01<00:01, 609.29it/s]\u001b[A\n",
      " 53%|█████▎    | 1107/2092 [00:01<00:01, 633.63it/s]\u001b[A\n",
      " 56%|█████▌    | 1172/2092 [00:01<00:01, 634.57it/s]\u001b[A\n",
      " 59%|█████▉    | 1236/2092 [00:02<00:01, 631.01it/s]\u001b[A\n",
      " 62%|██████▏   | 1300/2092 [00:02<00:01, 583.99it/s]\u001b[A\n",
      " 65%|██████▌   | 1360/2092 [00:02<00:01, 547.35it/s]\u001b[A\n",
      " 68%|██████▊   | 1422/2092 [00:02<00:01, 565.17it/s]\u001b[A\n",
      " 71%|███████   | 1488/2092 [00:02<00:01, 589.89it/s]\u001b[A\n",
      " 74%|███████▍  | 1554/2092 [00:02<00:00, 604.06it/s]\u001b[A\n",
      " 78%|███████▊  | 1623/2092 [00:02<00:00, 627.13it/s]\u001b[A\n",
      " 81%|████████  | 1687/2092 [00:02<00:00, 608.90it/s]\u001b[A\n",
      " 84%|████████▎ | 1749/2092 [00:02<00:00, 577.99it/s]\u001b[A\n",
      " 87%|████████▋ | 1816/2092 [00:03<00:00, 601.12it/s]\u001b[A\n",
      " 90%|█████████ | 1884/2092 [00:03<00:00, 621.44it/s]\u001b[A\n",
      " 93%|█████████▎| 1953/2092 [00:03<00:00, 640.25it/s]\u001b[A\n",
      " 96%|█████████▋| 2018/2092 [00:03<00:00, 632.88it/s]\u001b[A\n",
      "100%|█████████▉| 2082/2092 [00:03<00:00, 629.02it/s]\u001b[A\n",
      "100%|██████████| 2092/2092 [00:03<00:00, 601.92it/s]\u001b[A"
     ]
    }
   ],
   "source": [
    "for i in tqdm(range(0,len(list)-1)):\n",
    "    \n",
    "    pcd = read_point_cloud(list[i])\n",
    "    txt = np.asarray(pcd.points)\n",
    "    \n",
    "    filename_pts = \"/workspace/MV3D/pointGAN/shapenetcore_partanno_segmentation_benchmark_v0/777777/points/human_%s.pts\" % i\n",
    "    np.savetxt(filename_pts, txt)\n",
    "    \n",
    "    filename_seg = \"/workspace/MV3D/pointGAN/shapenetcore_partanno_segmentation_benchmark_v0/777777/points_label/human_%s.seg\" % i\n",
    "    np.savetxt(filename_seg, np.ones(txt.shape[0], dtype='i'))\n",
    "    \n",
    "    filename_png = \"/workspace/MV3D/pointGAN/shapenetcore_partanno_segmentation_benchmark_v0/777777/seg_img/human_%s.png\" % i\n",
    "    #visualization3D_xyz_img(txt, filename_png)"
   ]
  }
 ],
 "metadata": {
  "kernelspec": {
   "display_name": "Python [conda env:torch-p3]",
   "language": "python",
   "name": "conda-env-torch-p3-py"
  },
  "language_info": {
   "codemirror_mode": {
    "name": "ipython",
    "version": 3
   },
   "file_extension": ".py",
   "mimetype": "text/x-python",
   "name": "python",
   "nbconvert_exporter": "python",
   "pygments_lexer": "ipython3",
   "version": "3.5.6"
  },
  "varInspector": {
   "cols": {
    "lenName": 16,
    "lenType": 16,
    "lenVar": 40
   },
   "kernels_config": {
    "python": {
     "delete_cmd_postfix": "",
     "delete_cmd_prefix": "del ",
     "library": "var_list.py",
     "varRefreshCmd": "print(var_dic_list())"
    },
    "r": {
     "delete_cmd_postfix": ") ",
     "delete_cmd_prefix": "rm(",
     "library": "var_list.r",
     "varRefreshCmd": "cat(var_dic_list()) "
    }
   },
   "types_to_exclude": [
    "module",
    "function",
    "builtin_function_or_method",
    "instance",
    "_Feature"
   ],
   "window_display": false
  }
 },
 "nbformat": 4,
 "nbformat_minor": 2
}
